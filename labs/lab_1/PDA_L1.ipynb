{
  "cells": [
    {
      "cell_type": "markdown",
      "metadata": {
        "id": "view-in-github",
        "colab_type": "text"
      },
      "source": [
        "<a href=\"https://colab.research.google.com/github/DannyTheFlower/PDA_Course/blob/main/labs/lab_1/PDA_L1.ipynb\" target=\"_parent\"><img src=\"https://colab.research.google.com/assets/colab-badge.svg\" alt=\"Open In Colab\"/></a>"
      ]
    },
    {
      "cell_type": "markdown",
      "metadata": {
        "id": "AiMdKYTtuIoJ"
      },
      "source": [
        "# Задание на лабораторную работу 1"
      ]
    },
    {
      "cell_type": "markdown",
      "metadata": {
        "id": "1gbswCIauLSE"
      },
      "source": [
        "Представим задачу предсказания оценки как задачу регрессии, где целевой переменной будет признак Book-Rating. Тогда план анализа данных будет следующим:\n",
        "1. Предобработать данные: преобразовать все категориальные данные в числовые (для преобразования названий книжек в вектор попробуйте не менее 3 подходов из перечисленных: bag-of-words, tf-idf, word2vec, fasttext), обработать пустые ячейки и неточности в столбцах.\n",
        "2. Сделать нормировку данных.\n",
        "3. Обучить и протестировать не менее трех моделей регрессии. Например, линейную регрессию, случайный лес и xgboost. Можно также попробовать применить нейронную сеть.\n",
        "4. Оценить результаты.\n"
      ]
    },
    {
      "cell_type": "markdown",
      "metadata": {
        "id": "y7sd-f4YvwNA"
      },
      "source": [
        "# Загрузка данных и их подготовка"
      ]
    },
    {
      "cell_type": "code",
      "execution_count": 1,
      "metadata": {
        "id": "cRZUBYsPVTev"
      },
      "outputs": [],
      "source": [
        "import warnings\n",
        "\n",
        "warnings.filterwarnings(\"ignore\")"
      ]
    },
    {
      "cell_type": "code",
      "execution_count": 2,
      "metadata": {
        "id": "zJaT3INuvyWd"
      },
      "outputs": [],
      "source": [
        "!mkdir /root/.kaggle\n",
        "!touch /root/.kaggle/kaggle.json\n",
        "!echo '{\"username\":\"daniilpiatygo\",\"key\":\"6a5c15c37176a5dd0af08791f3882e69\"}' > /root/.kaggle/kaggle.json\n",
        "!chmod 600 ~/.kaggle/kaggle.json"
      ]
    },
    {
      "cell_type": "code",
      "execution_count": 3,
      "metadata": {
        "colab": {
          "base_uri": "https://localhost:8080/"
        },
        "id": "jzCThyBPv-8C",
        "outputId": "72cf9899-b1d6-4081-d05e-6e5e5bb82de4"
      },
      "outputs": [
        {
          "output_type": "stream",
          "name": "stdout",
          "text": [
            "Downloading book-recommendation-dataset.zip to /content\n",
            " 21% 5.00M/23.8M [00:00<00:00, 42.8MB/s]\n",
            "100% 23.8M/23.8M [00:00<00:00, 118MB/s] \n"
          ]
        }
      ],
      "source": [
        "!kaggle datasets download -d arashnic/book-recommendation-dataset\n",
        "!unzip -q book-recommendation-dataset.zip"
      ]
    },
    {
      "cell_type": "code",
      "execution_count": 4,
      "metadata": {
        "id": "hoYIEppNwn4c"
      },
      "outputs": [],
      "source": [
        "import numpy as np\n",
        "import pandas as pd\n",
        "import gc"
      ]
    },
    {
      "cell_type": "code",
      "execution_count": 5,
      "metadata": {
        "id": "T-ckOP1cwl68"
      },
      "outputs": [],
      "source": [
        "books = pd.read_csv(\"Books.csv\")\n",
        "ratings = pd.read_csv(\"Ratings.csv\")\n",
        "users = pd.read_csv(\"Users.csv\")\n",
        "\n",
        "books = books.merge(ratings, on=\"ISBN\").merge(users, on=\"User-ID\")"
      ]
    },
    {
      "cell_type": "code",
      "execution_count": 6,
      "metadata": {
        "colab": {
          "base_uri": "https://localhost:8080/",
          "height": 452
        },
        "id": "QJw75Pcnwy4u",
        "outputId": "4bde876c-a879-41db-a4e1-61bf0ce1b5cd"
      },
      "outputs": [
        {
          "output_type": "execute_result",
          "data": {
            "text/plain": [
              "         ISBN                                         Book-Title  \\\n",
              "0  0195153448                                Classical Mythology   \n",
              "1  0002005018                                       Clara Callan   \n",
              "2  0060973129                               Decision in Normandy   \n",
              "3  0374157065  Flu: The Story of the Great Influenza Pandemic...   \n",
              "4  0393045218                             The Mummies of Urumchi   \n",
              "\n",
              "            Book-Author Year-Of-Publication                   Publisher  \\\n",
              "0    Mark P. O. Morford                2002     Oxford University Press   \n",
              "1  Richard Bruce Wright                2001       HarperFlamingo Canada   \n",
              "2          Carlo D'Este                1991             HarperPerennial   \n",
              "3      Gina Bari Kolata                1999        Farrar Straus Giroux   \n",
              "4       E. J. W. Barber                1999  W. W. Norton &amp; Company   \n",
              "\n",
              "                                         Image-URL-S  \\\n",
              "0  http://images.amazon.com/images/P/0195153448.0...   \n",
              "1  http://images.amazon.com/images/P/0002005018.0...   \n",
              "2  http://images.amazon.com/images/P/0060973129.0...   \n",
              "3  http://images.amazon.com/images/P/0374157065.0...   \n",
              "4  http://images.amazon.com/images/P/0393045218.0...   \n",
              "\n",
              "                                         Image-URL-M  \\\n",
              "0  http://images.amazon.com/images/P/0195153448.0...   \n",
              "1  http://images.amazon.com/images/P/0002005018.0...   \n",
              "2  http://images.amazon.com/images/P/0060973129.0...   \n",
              "3  http://images.amazon.com/images/P/0374157065.0...   \n",
              "4  http://images.amazon.com/images/P/0393045218.0...   \n",
              "\n",
              "                                         Image-URL-L  User-ID  Book-Rating  \\\n",
              "0  http://images.amazon.com/images/P/0195153448.0...        2            0   \n",
              "1  http://images.amazon.com/images/P/0002005018.0...        8            5   \n",
              "2  http://images.amazon.com/images/P/0060973129.0...        8            0   \n",
              "3  http://images.amazon.com/images/P/0374157065.0...        8            0   \n",
              "4  http://images.amazon.com/images/P/0393045218.0...        8            0   \n",
              "\n",
              "                    Location   Age  \n",
              "0  stockton, california, usa  18.0  \n",
              "1   timmins, ontario, canada   NaN  \n",
              "2   timmins, ontario, canada   NaN  \n",
              "3   timmins, ontario, canada   NaN  \n",
              "4   timmins, ontario, canada   NaN  "
            ],
            "text/html": [
              "\n",
              "  <div id=\"df-f0716bb6-cb78-4d31-b910-10c14651c8a7\" class=\"colab-df-container\">\n",
              "    <div>\n",
              "<style scoped>\n",
              "    .dataframe tbody tr th:only-of-type {\n",
              "        vertical-align: middle;\n",
              "    }\n",
              "\n",
              "    .dataframe tbody tr th {\n",
              "        vertical-align: top;\n",
              "    }\n",
              "\n",
              "    .dataframe thead th {\n",
              "        text-align: right;\n",
              "    }\n",
              "</style>\n",
              "<table border=\"1\" class=\"dataframe\">\n",
              "  <thead>\n",
              "    <tr style=\"text-align: right;\">\n",
              "      <th></th>\n",
              "      <th>ISBN</th>\n",
              "      <th>Book-Title</th>\n",
              "      <th>Book-Author</th>\n",
              "      <th>Year-Of-Publication</th>\n",
              "      <th>Publisher</th>\n",
              "      <th>Image-URL-S</th>\n",
              "      <th>Image-URL-M</th>\n",
              "      <th>Image-URL-L</th>\n",
              "      <th>User-ID</th>\n",
              "      <th>Book-Rating</th>\n",
              "      <th>Location</th>\n",
              "      <th>Age</th>\n",
              "    </tr>\n",
              "  </thead>\n",
              "  <tbody>\n",
              "    <tr>\n",
              "      <th>0</th>\n",
              "      <td>0195153448</td>\n",
              "      <td>Classical Mythology</td>\n",
              "      <td>Mark P. O. Morford</td>\n",
              "      <td>2002</td>\n",
              "      <td>Oxford University Press</td>\n",
              "      <td>http://images.amazon.com/images/P/0195153448.0...</td>\n",
              "      <td>http://images.amazon.com/images/P/0195153448.0...</td>\n",
              "      <td>http://images.amazon.com/images/P/0195153448.0...</td>\n",
              "      <td>2</td>\n",
              "      <td>0</td>\n",
              "      <td>stockton, california, usa</td>\n",
              "      <td>18.0</td>\n",
              "    </tr>\n",
              "    <tr>\n",
              "      <th>1</th>\n",
              "      <td>0002005018</td>\n",
              "      <td>Clara Callan</td>\n",
              "      <td>Richard Bruce Wright</td>\n",
              "      <td>2001</td>\n",
              "      <td>HarperFlamingo Canada</td>\n",
              "      <td>http://images.amazon.com/images/P/0002005018.0...</td>\n",
              "      <td>http://images.amazon.com/images/P/0002005018.0...</td>\n",
              "      <td>http://images.amazon.com/images/P/0002005018.0...</td>\n",
              "      <td>8</td>\n",
              "      <td>5</td>\n",
              "      <td>timmins, ontario, canada</td>\n",
              "      <td>NaN</td>\n",
              "    </tr>\n",
              "    <tr>\n",
              "      <th>2</th>\n",
              "      <td>0060973129</td>\n",
              "      <td>Decision in Normandy</td>\n",
              "      <td>Carlo D'Este</td>\n",
              "      <td>1991</td>\n",
              "      <td>HarperPerennial</td>\n",
              "      <td>http://images.amazon.com/images/P/0060973129.0...</td>\n",
              "      <td>http://images.amazon.com/images/P/0060973129.0...</td>\n",
              "      <td>http://images.amazon.com/images/P/0060973129.0...</td>\n",
              "      <td>8</td>\n",
              "      <td>0</td>\n",
              "      <td>timmins, ontario, canada</td>\n",
              "      <td>NaN</td>\n",
              "    </tr>\n",
              "    <tr>\n",
              "      <th>3</th>\n",
              "      <td>0374157065</td>\n",
              "      <td>Flu: The Story of the Great Influenza Pandemic...</td>\n",
              "      <td>Gina Bari Kolata</td>\n",
              "      <td>1999</td>\n",
              "      <td>Farrar Straus Giroux</td>\n",
              "      <td>http://images.amazon.com/images/P/0374157065.0...</td>\n",
              "      <td>http://images.amazon.com/images/P/0374157065.0...</td>\n",
              "      <td>http://images.amazon.com/images/P/0374157065.0...</td>\n",
              "      <td>8</td>\n",
              "      <td>0</td>\n",
              "      <td>timmins, ontario, canada</td>\n",
              "      <td>NaN</td>\n",
              "    </tr>\n",
              "    <tr>\n",
              "      <th>4</th>\n",
              "      <td>0393045218</td>\n",
              "      <td>The Mummies of Urumchi</td>\n",
              "      <td>E. J. W. Barber</td>\n",
              "      <td>1999</td>\n",
              "      <td>W. W. Norton &amp;amp; Company</td>\n",
              "      <td>http://images.amazon.com/images/P/0393045218.0...</td>\n",
              "      <td>http://images.amazon.com/images/P/0393045218.0...</td>\n",
              "      <td>http://images.amazon.com/images/P/0393045218.0...</td>\n",
              "      <td>8</td>\n",
              "      <td>0</td>\n",
              "      <td>timmins, ontario, canada</td>\n",
              "      <td>NaN</td>\n",
              "    </tr>\n",
              "  </tbody>\n",
              "</table>\n",
              "</div>\n",
              "    <div class=\"colab-df-buttons\">\n",
              "\n",
              "  <div class=\"colab-df-container\">\n",
              "    <button class=\"colab-df-convert\" onclick=\"convertToInteractive('df-f0716bb6-cb78-4d31-b910-10c14651c8a7')\"\n",
              "            title=\"Convert this dataframe to an interactive table.\"\n",
              "            style=\"display:none;\">\n",
              "\n",
              "  <svg xmlns=\"http://www.w3.org/2000/svg\" height=\"24px\" viewBox=\"0 -960 960 960\">\n",
              "    <path d=\"M120-120v-720h720v720H120Zm60-500h600v-160H180v160Zm220 220h160v-160H400v160Zm0 220h160v-160H400v160ZM180-400h160v-160H180v160Zm440 0h160v-160H620v160ZM180-180h160v-160H180v160Zm440 0h160v-160H620v160Z\"/>\n",
              "  </svg>\n",
              "    </button>\n",
              "\n",
              "  <style>\n",
              "    .colab-df-container {\n",
              "      display:flex;\n",
              "      gap: 12px;\n",
              "    }\n",
              "\n",
              "    .colab-df-convert {\n",
              "      background-color: #E8F0FE;\n",
              "      border: none;\n",
              "      border-radius: 50%;\n",
              "      cursor: pointer;\n",
              "      display: none;\n",
              "      fill: #1967D2;\n",
              "      height: 32px;\n",
              "      padding: 0 0 0 0;\n",
              "      width: 32px;\n",
              "    }\n",
              "\n",
              "    .colab-df-convert:hover {\n",
              "      background-color: #E2EBFA;\n",
              "      box-shadow: 0px 1px 2px rgba(60, 64, 67, 0.3), 0px 1px 3px 1px rgba(60, 64, 67, 0.15);\n",
              "      fill: #174EA6;\n",
              "    }\n",
              "\n",
              "    .colab-df-buttons div {\n",
              "      margin-bottom: 4px;\n",
              "    }\n",
              "\n",
              "    [theme=dark] .colab-df-convert {\n",
              "      background-color: #3B4455;\n",
              "      fill: #D2E3FC;\n",
              "    }\n",
              "\n",
              "    [theme=dark] .colab-df-convert:hover {\n",
              "      background-color: #434B5C;\n",
              "      box-shadow: 0px 1px 3px 1px rgba(0, 0, 0, 0.15);\n",
              "      filter: drop-shadow(0px 1px 2px rgba(0, 0, 0, 0.3));\n",
              "      fill: #FFFFFF;\n",
              "    }\n",
              "  </style>\n",
              "\n",
              "    <script>\n",
              "      const buttonEl =\n",
              "        document.querySelector('#df-f0716bb6-cb78-4d31-b910-10c14651c8a7 button.colab-df-convert');\n",
              "      buttonEl.style.display =\n",
              "        google.colab.kernel.accessAllowed ? 'block' : 'none';\n",
              "\n",
              "      async function convertToInteractive(key) {\n",
              "        const element = document.querySelector('#df-f0716bb6-cb78-4d31-b910-10c14651c8a7');\n",
              "        const dataTable =\n",
              "          await google.colab.kernel.invokeFunction('convertToInteractive',\n",
              "                                                    [key], {});\n",
              "        if (!dataTable) return;\n",
              "\n",
              "        const docLinkHtml = 'Like what you see? Visit the ' +\n",
              "          '<a target=\"_blank\" href=https://colab.research.google.com/notebooks/data_table.ipynb>data table notebook</a>'\n",
              "          + ' to learn more about interactive tables.';\n",
              "        element.innerHTML = '';\n",
              "        dataTable['output_type'] = 'display_data';\n",
              "        await google.colab.output.renderOutput(dataTable, element);\n",
              "        const docLink = document.createElement('div');\n",
              "        docLink.innerHTML = docLinkHtml;\n",
              "        element.appendChild(docLink);\n",
              "      }\n",
              "    </script>\n",
              "  </div>\n",
              "\n",
              "\n",
              "<div id=\"df-be074e6b-03c5-482a-96d7-9ca80cd19806\">\n",
              "  <button class=\"colab-df-quickchart\" onclick=\"quickchart('df-be074e6b-03c5-482a-96d7-9ca80cd19806')\"\n",
              "            title=\"Suggest charts\"\n",
              "            style=\"display:none;\">\n",
              "\n",
              "<svg xmlns=\"http://www.w3.org/2000/svg\" height=\"24px\"viewBox=\"0 0 24 24\"\n",
              "     width=\"24px\">\n",
              "    <g>\n",
              "        <path d=\"M19 3H5c-1.1 0-2 .9-2 2v14c0 1.1.9 2 2 2h14c1.1 0 2-.9 2-2V5c0-1.1-.9-2-2-2zM9 17H7v-7h2v7zm4 0h-2V7h2v10zm4 0h-2v-4h2v4z\"/>\n",
              "    </g>\n",
              "</svg>\n",
              "  </button>\n",
              "\n",
              "<style>\n",
              "  .colab-df-quickchart {\n",
              "      --bg-color: #E8F0FE;\n",
              "      --fill-color: #1967D2;\n",
              "      --hover-bg-color: #E2EBFA;\n",
              "      --hover-fill-color: #174EA6;\n",
              "      --disabled-fill-color: #AAA;\n",
              "      --disabled-bg-color: #DDD;\n",
              "  }\n",
              "\n",
              "  [theme=dark] .colab-df-quickchart {\n",
              "      --bg-color: #3B4455;\n",
              "      --fill-color: #D2E3FC;\n",
              "      --hover-bg-color: #434B5C;\n",
              "      --hover-fill-color: #FFFFFF;\n",
              "      --disabled-bg-color: #3B4455;\n",
              "      --disabled-fill-color: #666;\n",
              "  }\n",
              "\n",
              "  .colab-df-quickchart {\n",
              "    background-color: var(--bg-color);\n",
              "    border: none;\n",
              "    border-radius: 50%;\n",
              "    cursor: pointer;\n",
              "    display: none;\n",
              "    fill: var(--fill-color);\n",
              "    height: 32px;\n",
              "    padding: 0;\n",
              "    width: 32px;\n",
              "  }\n",
              "\n",
              "  .colab-df-quickchart:hover {\n",
              "    background-color: var(--hover-bg-color);\n",
              "    box-shadow: 0 1px 2px rgba(60, 64, 67, 0.3), 0 1px 3px 1px rgba(60, 64, 67, 0.15);\n",
              "    fill: var(--button-hover-fill-color);\n",
              "  }\n",
              "\n",
              "  .colab-df-quickchart-complete:disabled,\n",
              "  .colab-df-quickchart-complete:disabled:hover {\n",
              "    background-color: var(--disabled-bg-color);\n",
              "    fill: var(--disabled-fill-color);\n",
              "    box-shadow: none;\n",
              "  }\n",
              "\n",
              "  .colab-df-spinner {\n",
              "    border: 2px solid var(--fill-color);\n",
              "    border-color: transparent;\n",
              "    border-bottom-color: var(--fill-color);\n",
              "    animation:\n",
              "      spin 1s steps(1) infinite;\n",
              "  }\n",
              "\n",
              "  @keyframes spin {\n",
              "    0% {\n",
              "      border-color: transparent;\n",
              "      border-bottom-color: var(--fill-color);\n",
              "      border-left-color: var(--fill-color);\n",
              "    }\n",
              "    20% {\n",
              "      border-color: transparent;\n",
              "      border-left-color: var(--fill-color);\n",
              "      border-top-color: var(--fill-color);\n",
              "    }\n",
              "    30% {\n",
              "      border-color: transparent;\n",
              "      border-left-color: var(--fill-color);\n",
              "      border-top-color: var(--fill-color);\n",
              "      border-right-color: var(--fill-color);\n",
              "    }\n",
              "    40% {\n",
              "      border-color: transparent;\n",
              "      border-right-color: var(--fill-color);\n",
              "      border-top-color: var(--fill-color);\n",
              "    }\n",
              "    60% {\n",
              "      border-color: transparent;\n",
              "      border-right-color: var(--fill-color);\n",
              "    }\n",
              "    80% {\n",
              "      border-color: transparent;\n",
              "      border-right-color: var(--fill-color);\n",
              "      border-bottom-color: var(--fill-color);\n",
              "    }\n",
              "    90% {\n",
              "      border-color: transparent;\n",
              "      border-bottom-color: var(--fill-color);\n",
              "    }\n",
              "  }\n",
              "</style>\n",
              "\n",
              "  <script>\n",
              "    async function quickchart(key) {\n",
              "      const quickchartButtonEl =\n",
              "        document.querySelector('#' + key + ' button');\n",
              "      quickchartButtonEl.disabled = true;  // To prevent multiple clicks.\n",
              "      quickchartButtonEl.classList.add('colab-df-spinner');\n",
              "      try {\n",
              "        const charts = await google.colab.kernel.invokeFunction(\n",
              "            'suggestCharts', [key], {});\n",
              "      } catch (error) {\n",
              "        console.error('Error during call to suggestCharts:', error);\n",
              "      }\n",
              "      quickchartButtonEl.classList.remove('colab-df-spinner');\n",
              "      quickchartButtonEl.classList.add('colab-df-quickchart-complete');\n",
              "    }\n",
              "    (() => {\n",
              "      let quickchartButtonEl =\n",
              "        document.querySelector('#df-be074e6b-03c5-482a-96d7-9ca80cd19806 button');\n",
              "      quickchartButtonEl.style.display =\n",
              "        google.colab.kernel.accessAllowed ? 'block' : 'none';\n",
              "    })();\n",
              "  </script>\n",
              "</div>\n",
              "    </div>\n",
              "  </div>\n"
            ]
          },
          "metadata": {},
          "execution_count": 6
        }
      ],
      "source": [
        "books.head()"
      ]
    },
    {
      "cell_type": "markdown",
      "source": [
        "Удалим неиспользуемые переменные"
      ],
      "metadata": {
        "id": "Yqso2ZkX8R64"
      }
    },
    {
      "cell_type": "code",
      "source": [
        "del ratings, users\n",
        "gc.collect()"
      ],
      "metadata": {
        "colab": {
          "base_uri": "https://localhost:8080/"
        },
        "id": "MRBLn9wE8PpR",
        "outputId": "7633fba4-0dc1-43f1-b3ec-b3f05dc4f45f"
      },
      "execution_count": 7,
      "outputs": [
        {
          "output_type": "execute_result",
          "data": {
            "text/plain": [
              "0"
            ]
          },
          "metadata": {},
          "execution_count": 7
        }
      ]
    },
    {
      "cell_type": "markdown",
      "metadata": {
        "id": "azlP8pRcxsJv"
      },
      "source": [
        "Преодобработку возьмём из [второй практики](https://github.com/DannyTheFlower/PDA_Course/blob/main/practices/practice_2/PDA_P2.ipynb)."
      ]
    },
    {
      "cell_type": "code",
      "execution_count": 8,
      "metadata": {
        "id": "UR2BF25zx-nD"
      },
      "outputs": [],
      "source": [
        "locations = books[\"Location\"].str.split(\", \", expand=True)\n",
        "locations.drop(range(3, 7), axis=1, inplace=True)\n",
        "locations.columns = [\"city\", \"region\", \"country\"]\n",
        "books = pd.concat([books, locations], axis=1)\n",
        "\n",
        "books[\"Age\"] = books[\"Age\"].apply(lambda x: x if 0 <= x <= 100 else np.nan)\n",
        "\n",
        "condition = (books[\"Year-Of-Publication\"] == \"Gallimard\") | (books[\"Year-Of-Publication\"] == \"DK Publishing Inc\")\n",
        "books.loc[condition, [\"Book-Author\", \"Year-Of-Publication\"]] = books.loc[condition, [\"Year-Of-Publication\", \"Book-Author\"]].values"
      ]
    },
    {
      "cell_type": "code",
      "execution_count": 9,
      "metadata": {
        "colab": {
          "base_uri": "https://localhost:8080/",
          "height": 452
        },
        "id": "5bpECktpz1oF",
        "outputId": "33df1990-dd12-4067-ff00-f9df4197e47b"
      },
      "outputs": [
        {
          "output_type": "execute_result",
          "data": {
            "text/plain": [
              "         ISBN                                         Book-Title  \\\n",
              "0  0195153448                                Classical Mythology   \n",
              "1  0002005018                                       Clara Callan   \n",
              "2  0060973129                               Decision in Normandy   \n",
              "3  0374157065  Flu: The Story of the Great Influenza Pandemic...   \n",
              "4  0393045218                             The Mummies of Urumchi   \n",
              "\n",
              "            Book-Author Year-Of-Publication                   Publisher  \\\n",
              "0    Mark P. O. Morford                2002     Oxford University Press   \n",
              "1  Richard Bruce Wright                2001       HarperFlamingo Canada   \n",
              "2          Carlo D'Este                1991             HarperPerennial   \n",
              "3      Gina Bari Kolata                1999        Farrar Straus Giroux   \n",
              "4       E. J. W. Barber                1999  W. W. Norton &amp; Company   \n",
              "\n",
              "                                         Image-URL-S  \\\n",
              "0  http://images.amazon.com/images/P/0195153448.0...   \n",
              "1  http://images.amazon.com/images/P/0002005018.0...   \n",
              "2  http://images.amazon.com/images/P/0060973129.0...   \n",
              "3  http://images.amazon.com/images/P/0374157065.0...   \n",
              "4  http://images.amazon.com/images/P/0393045218.0...   \n",
              "\n",
              "                                         Image-URL-M  \\\n",
              "0  http://images.amazon.com/images/P/0195153448.0...   \n",
              "1  http://images.amazon.com/images/P/0002005018.0...   \n",
              "2  http://images.amazon.com/images/P/0060973129.0...   \n",
              "3  http://images.amazon.com/images/P/0374157065.0...   \n",
              "4  http://images.amazon.com/images/P/0393045218.0...   \n",
              "\n",
              "                                         Image-URL-L  User-ID  Book-Rating  \\\n",
              "0  http://images.amazon.com/images/P/0195153448.0...        2            0   \n",
              "1  http://images.amazon.com/images/P/0002005018.0...        8            5   \n",
              "2  http://images.amazon.com/images/P/0060973129.0...        8            0   \n",
              "3  http://images.amazon.com/images/P/0374157065.0...        8            0   \n",
              "4  http://images.amazon.com/images/P/0393045218.0...        8            0   \n",
              "\n",
              "                    Location   Age      city      region country  \n",
              "0  stockton, california, usa  18.0  stockton  california     usa  \n",
              "1   timmins, ontario, canada   NaN   timmins     ontario  canada  \n",
              "2   timmins, ontario, canada   NaN   timmins     ontario  canada  \n",
              "3   timmins, ontario, canada   NaN   timmins     ontario  canada  \n",
              "4   timmins, ontario, canada   NaN   timmins     ontario  canada  "
            ],
            "text/html": [
              "\n",
              "  <div id=\"df-503e3be6-605e-423b-9576-33956abc4f81\" class=\"colab-df-container\">\n",
              "    <div>\n",
              "<style scoped>\n",
              "    .dataframe tbody tr th:only-of-type {\n",
              "        vertical-align: middle;\n",
              "    }\n",
              "\n",
              "    .dataframe tbody tr th {\n",
              "        vertical-align: top;\n",
              "    }\n",
              "\n",
              "    .dataframe thead th {\n",
              "        text-align: right;\n",
              "    }\n",
              "</style>\n",
              "<table border=\"1\" class=\"dataframe\">\n",
              "  <thead>\n",
              "    <tr style=\"text-align: right;\">\n",
              "      <th></th>\n",
              "      <th>ISBN</th>\n",
              "      <th>Book-Title</th>\n",
              "      <th>Book-Author</th>\n",
              "      <th>Year-Of-Publication</th>\n",
              "      <th>Publisher</th>\n",
              "      <th>Image-URL-S</th>\n",
              "      <th>Image-URL-M</th>\n",
              "      <th>Image-URL-L</th>\n",
              "      <th>User-ID</th>\n",
              "      <th>Book-Rating</th>\n",
              "      <th>Location</th>\n",
              "      <th>Age</th>\n",
              "      <th>city</th>\n",
              "      <th>region</th>\n",
              "      <th>country</th>\n",
              "    </tr>\n",
              "  </thead>\n",
              "  <tbody>\n",
              "    <tr>\n",
              "      <th>0</th>\n",
              "      <td>0195153448</td>\n",
              "      <td>Classical Mythology</td>\n",
              "      <td>Mark P. O. Morford</td>\n",
              "      <td>2002</td>\n",
              "      <td>Oxford University Press</td>\n",
              "      <td>http://images.amazon.com/images/P/0195153448.0...</td>\n",
              "      <td>http://images.amazon.com/images/P/0195153448.0...</td>\n",
              "      <td>http://images.amazon.com/images/P/0195153448.0...</td>\n",
              "      <td>2</td>\n",
              "      <td>0</td>\n",
              "      <td>stockton, california, usa</td>\n",
              "      <td>18.0</td>\n",
              "      <td>stockton</td>\n",
              "      <td>california</td>\n",
              "      <td>usa</td>\n",
              "    </tr>\n",
              "    <tr>\n",
              "      <th>1</th>\n",
              "      <td>0002005018</td>\n",
              "      <td>Clara Callan</td>\n",
              "      <td>Richard Bruce Wright</td>\n",
              "      <td>2001</td>\n",
              "      <td>HarperFlamingo Canada</td>\n",
              "      <td>http://images.amazon.com/images/P/0002005018.0...</td>\n",
              "      <td>http://images.amazon.com/images/P/0002005018.0...</td>\n",
              "      <td>http://images.amazon.com/images/P/0002005018.0...</td>\n",
              "      <td>8</td>\n",
              "      <td>5</td>\n",
              "      <td>timmins, ontario, canada</td>\n",
              "      <td>NaN</td>\n",
              "      <td>timmins</td>\n",
              "      <td>ontario</td>\n",
              "      <td>canada</td>\n",
              "    </tr>\n",
              "    <tr>\n",
              "      <th>2</th>\n",
              "      <td>0060973129</td>\n",
              "      <td>Decision in Normandy</td>\n",
              "      <td>Carlo D'Este</td>\n",
              "      <td>1991</td>\n",
              "      <td>HarperPerennial</td>\n",
              "      <td>http://images.amazon.com/images/P/0060973129.0...</td>\n",
              "      <td>http://images.amazon.com/images/P/0060973129.0...</td>\n",
              "      <td>http://images.amazon.com/images/P/0060973129.0...</td>\n",
              "      <td>8</td>\n",
              "      <td>0</td>\n",
              "      <td>timmins, ontario, canada</td>\n",
              "      <td>NaN</td>\n",
              "      <td>timmins</td>\n",
              "      <td>ontario</td>\n",
              "      <td>canada</td>\n",
              "    </tr>\n",
              "    <tr>\n",
              "      <th>3</th>\n",
              "      <td>0374157065</td>\n",
              "      <td>Flu: The Story of the Great Influenza Pandemic...</td>\n",
              "      <td>Gina Bari Kolata</td>\n",
              "      <td>1999</td>\n",
              "      <td>Farrar Straus Giroux</td>\n",
              "      <td>http://images.amazon.com/images/P/0374157065.0...</td>\n",
              "      <td>http://images.amazon.com/images/P/0374157065.0...</td>\n",
              "      <td>http://images.amazon.com/images/P/0374157065.0...</td>\n",
              "      <td>8</td>\n",
              "      <td>0</td>\n",
              "      <td>timmins, ontario, canada</td>\n",
              "      <td>NaN</td>\n",
              "      <td>timmins</td>\n",
              "      <td>ontario</td>\n",
              "      <td>canada</td>\n",
              "    </tr>\n",
              "    <tr>\n",
              "      <th>4</th>\n",
              "      <td>0393045218</td>\n",
              "      <td>The Mummies of Urumchi</td>\n",
              "      <td>E. J. W. Barber</td>\n",
              "      <td>1999</td>\n",
              "      <td>W. W. Norton &amp;amp; Company</td>\n",
              "      <td>http://images.amazon.com/images/P/0393045218.0...</td>\n",
              "      <td>http://images.amazon.com/images/P/0393045218.0...</td>\n",
              "      <td>http://images.amazon.com/images/P/0393045218.0...</td>\n",
              "      <td>8</td>\n",
              "      <td>0</td>\n",
              "      <td>timmins, ontario, canada</td>\n",
              "      <td>NaN</td>\n",
              "      <td>timmins</td>\n",
              "      <td>ontario</td>\n",
              "      <td>canada</td>\n",
              "    </tr>\n",
              "  </tbody>\n",
              "</table>\n",
              "</div>\n",
              "    <div class=\"colab-df-buttons\">\n",
              "\n",
              "  <div class=\"colab-df-container\">\n",
              "    <button class=\"colab-df-convert\" onclick=\"convertToInteractive('df-503e3be6-605e-423b-9576-33956abc4f81')\"\n",
              "            title=\"Convert this dataframe to an interactive table.\"\n",
              "            style=\"display:none;\">\n",
              "\n",
              "  <svg xmlns=\"http://www.w3.org/2000/svg\" height=\"24px\" viewBox=\"0 -960 960 960\">\n",
              "    <path d=\"M120-120v-720h720v720H120Zm60-500h600v-160H180v160Zm220 220h160v-160H400v160Zm0 220h160v-160H400v160ZM180-400h160v-160H180v160Zm440 0h160v-160H620v160ZM180-180h160v-160H180v160Zm440 0h160v-160H620v160Z\"/>\n",
              "  </svg>\n",
              "    </button>\n",
              "\n",
              "  <style>\n",
              "    .colab-df-container {\n",
              "      display:flex;\n",
              "      gap: 12px;\n",
              "    }\n",
              "\n",
              "    .colab-df-convert {\n",
              "      background-color: #E8F0FE;\n",
              "      border: none;\n",
              "      border-radius: 50%;\n",
              "      cursor: pointer;\n",
              "      display: none;\n",
              "      fill: #1967D2;\n",
              "      height: 32px;\n",
              "      padding: 0 0 0 0;\n",
              "      width: 32px;\n",
              "    }\n",
              "\n",
              "    .colab-df-convert:hover {\n",
              "      background-color: #E2EBFA;\n",
              "      box-shadow: 0px 1px 2px rgba(60, 64, 67, 0.3), 0px 1px 3px 1px rgba(60, 64, 67, 0.15);\n",
              "      fill: #174EA6;\n",
              "    }\n",
              "\n",
              "    .colab-df-buttons div {\n",
              "      margin-bottom: 4px;\n",
              "    }\n",
              "\n",
              "    [theme=dark] .colab-df-convert {\n",
              "      background-color: #3B4455;\n",
              "      fill: #D2E3FC;\n",
              "    }\n",
              "\n",
              "    [theme=dark] .colab-df-convert:hover {\n",
              "      background-color: #434B5C;\n",
              "      box-shadow: 0px 1px 3px 1px rgba(0, 0, 0, 0.15);\n",
              "      filter: drop-shadow(0px 1px 2px rgba(0, 0, 0, 0.3));\n",
              "      fill: #FFFFFF;\n",
              "    }\n",
              "  </style>\n",
              "\n",
              "    <script>\n",
              "      const buttonEl =\n",
              "        document.querySelector('#df-503e3be6-605e-423b-9576-33956abc4f81 button.colab-df-convert');\n",
              "      buttonEl.style.display =\n",
              "        google.colab.kernel.accessAllowed ? 'block' : 'none';\n",
              "\n",
              "      async function convertToInteractive(key) {\n",
              "        const element = document.querySelector('#df-503e3be6-605e-423b-9576-33956abc4f81');\n",
              "        const dataTable =\n",
              "          await google.colab.kernel.invokeFunction('convertToInteractive',\n",
              "                                                    [key], {});\n",
              "        if (!dataTable) return;\n",
              "\n",
              "        const docLinkHtml = 'Like what you see? Visit the ' +\n",
              "          '<a target=\"_blank\" href=https://colab.research.google.com/notebooks/data_table.ipynb>data table notebook</a>'\n",
              "          + ' to learn more about interactive tables.';\n",
              "        element.innerHTML = '';\n",
              "        dataTable['output_type'] = 'display_data';\n",
              "        await google.colab.output.renderOutput(dataTable, element);\n",
              "        const docLink = document.createElement('div');\n",
              "        docLink.innerHTML = docLinkHtml;\n",
              "        element.appendChild(docLink);\n",
              "      }\n",
              "    </script>\n",
              "  </div>\n",
              "\n",
              "\n",
              "<div id=\"df-39c44be2-43db-45c0-8f4f-eb744b273d9e\">\n",
              "  <button class=\"colab-df-quickchart\" onclick=\"quickchart('df-39c44be2-43db-45c0-8f4f-eb744b273d9e')\"\n",
              "            title=\"Suggest charts\"\n",
              "            style=\"display:none;\">\n",
              "\n",
              "<svg xmlns=\"http://www.w3.org/2000/svg\" height=\"24px\"viewBox=\"0 0 24 24\"\n",
              "     width=\"24px\">\n",
              "    <g>\n",
              "        <path d=\"M19 3H5c-1.1 0-2 .9-2 2v14c0 1.1.9 2 2 2h14c1.1 0 2-.9 2-2V5c0-1.1-.9-2-2-2zM9 17H7v-7h2v7zm4 0h-2V7h2v10zm4 0h-2v-4h2v4z\"/>\n",
              "    </g>\n",
              "</svg>\n",
              "  </button>\n",
              "\n",
              "<style>\n",
              "  .colab-df-quickchart {\n",
              "      --bg-color: #E8F0FE;\n",
              "      --fill-color: #1967D2;\n",
              "      --hover-bg-color: #E2EBFA;\n",
              "      --hover-fill-color: #174EA6;\n",
              "      --disabled-fill-color: #AAA;\n",
              "      --disabled-bg-color: #DDD;\n",
              "  }\n",
              "\n",
              "  [theme=dark] .colab-df-quickchart {\n",
              "      --bg-color: #3B4455;\n",
              "      --fill-color: #D2E3FC;\n",
              "      --hover-bg-color: #434B5C;\n",
              "      --hover-fill-color: #FFFFFF;\n",
              "      --disabled-bg-color: #3B4455;\n",
              "      --disabled-fill-color: #666;\n",
              "  }\n",
              "\n",
              "  .colab-df-quickchart {\n",
              "    background-color: var(--bg-color);\n",
              "    border: none;\n",
              "    border-radius: 50%;\n",
              "    cursor: pointer;\n",
              "    display: none;\n",
              "    fill: var(--fill-color);\n",
              "    height: 32px;\n",
              "    padding: 0;\n",
              "    width: 32px;\n",
              "  }\n",
              "\n",
              "  .colab-df-quickchart:hover {\n",
              "    background-color: var(--hover-bg-color);\n",
              "    box-shadow: 0 1px 2px rgba(60, 64, 67, 0.3), 0 1px 3px 1px rgba(60, 64, 67, 0.15);\n",
              "    fill: var(--button-hover-fill-color);\n",
              "  }\n",
              "\n",
              "  .colab-df-quickchart-complete:disabled,\n",
              "  .colab-df-quickchart-complete:disabled:hover {\n",
              "    background-color: var(--disabled-bg-color);\n",
              "    fill: var(--disabled-fill-color);\n",
              "    box-shadow: none;\n",
              "  }\n",
              "\n",
              "  .colab-df-spinner {\n",
              "    border: 2px solid var(--fill-color);\n",
              "    border-color: transparent;\n",
              "    border-bottom-color: var(--fill-color);\n",
              "    animation:\n",
              "      spin 1s steps(1) infinite;\n",
              "  }\n",
              "\n",
              "  @keyframes spin {\n",
              "    0% {\n",
              "      border-color: transparent;\n",
              "      border-bottom-color: var(--fill-color);\n",
              "      border-left-color: var(--fill-color);\n",
              "    }\n",
              "    20% {\n",
              "      border-color: transparent;\n",
              "      border-left-color: var(--fill-color);\n",
              "      border-top-color: var(--fill-color);\n",
              "    }\n",
              "    30% {\n",
              "      border-color: transparent;\n",
              "      border-left-color: var(--fill-color);\n",
              "      border-top-color: var(--fill-color);\n",
              "      border-right-color: var(--fill-color);\n",
              "    }\n",
              "    40% {\n",
              "      border-color: transparent;\n",
              "      border-right-color: var(--fill-color);\n",
              "      border-top-color: var(--fill-color);\n",
              "    }\n",
              "    60% {\n",
              "      border-color: transparent;\n",
              "      border-right-color: var(--fill-color);\n",
              "    }\n",
              "    80% {\n",
              "      border-color: transparent;\n",
              "      border-right-color: var(--fill-color);\n",
              "      border-bottom-color: var(--fill-color);\n",
              "    }\n",
              "    90% {\n",
              "      border-color: transparent;\n",
              "      border-bottom-color: var(--fill-color);\n",
              "    }\n",
              "  }\n",
              "</style>\n",
              "\n",
              "  <script>\n",
              "    async function quickchart(key) {\n",
              "      const quickchartButtonEl =\n",
              "        document.querySelector('#' + key + ' button');\n",
              "      quickchartButtonEl.disabled = true;  // To prevent multiple clicks.\n",
              "      quickchartButtonEl.classList.add('colab-df-spinner');\n",
              "      try {\n",
              "        const charts = await google.colab.kernel.invokeFunction(\n",
              "            'suggestCharts', [key], {});\n",
              "      } catch (error) {\n",
              "        console.error('Error during call to suggestCharts:', error);\n",
              "      }\n",
              "      quickchartButtonEl.classList.remove('colab-df-spinner');\n",
              "      quickchartButtonEl.classList.add('colab-df-quickchart-complete');\n",
              "    }\n",
              "    (() => {\n",
              "      let quickchartButtonEl =\n",
              "        document.querySelector('#df-39c44be2-43db-45c0-8f4f-eb744b273d9e button');\n",
              "      quickchartButtonEl.style.display =\n",
              "        google.colab.kernel.accessAllowed ? 'block' : 'none';\n",
              "    })();\n",
              "  </script>\n",
              "</div>\n",
              "    </div>\n",
              "  </div>\n"
            ]
          },
          "metadata": {},
          "execution_count": 9
        }
      ],
      "source": [
        "books.head()"
      ]
    },
    {
      "cell_type": "markdown",
      "source": [
        "Удалим неиспользуемые переменные"
      ],
      "metadata": {
        "id": "Qixs7QZb8hEe"
      }
    },
    {
      "cell_type": "code",
      "source": [
        "del locations, condition\n",
        "gc.collect()"
      ],
      "metadata": {
        "colab": {
          "base_uri": "https://localhost:8080/"
        },
        "id": "HrBriEIO8bXD",
        "outputId": "fab60b20-1506-47f2-891f-e475b3c605c4"
      },
      "execution_count": 10,
      "outputs": [
        {
          "output_type": "execute_result",
          "data": {
            "text/plain": [
              "18"
            ]
          },
          "metadata": {},
          "execution_count": 10
        }
      ]
    },
    {
      "cell_type": "markdown",
      "metadata": {
        "id": "vpCkd0vszuY2"
      },
      "source": [
        "Посмотрим, что можно ещё сделать для обучения моделей."
      ]
    },
    {
      "cell_type": "code",
      "execution_count": 11,
      "metadata": {
        "colab": {
          "base_uri": "https://localhost:8080/"
        },
        "id": "Zi_h-H2BzU0F",
        "outputId": "beb633a5-39dd-4d04-a69e-5fac54d492f6"
      },
      "outputs": [
        {
          "output_type": "stream",
          "name": "stdout",
          "text": [
            "<class 'pandas.core.frame.DataFrame'>\n",
            "Int64Index: 1031136 entries, 0 to 1031135\n",
            "Data columns (total 15 columns):\n",
            " #   Column               Non-Null Count    Dtype  \n",
            "---  ------               --------------    -----  \n",
            " 0   ISBN                 1031136 non-null  object \n",
            " 1   Book-Title           1031136 non-null  object \n",
            " 2   Book-Author          1031135 non-null  object \n",
            " 3   Year-Of-Publication  1031136 non-null  object \n",
            " 4   Publisher            1031134 non-null  object \n",
            " 5   Image-URL-S          1031136 non-null  object \n",
            " 6   Image-URL-M          1031136 non-null  object \n",
            " 7   Image-URL-L          1031132 non-null  object \n",
            " 8   User-ID              1031136 non-null  int64  \n",
            " 9   Book-Rating          1031136 non-null  int64  \n",
            " 10  Location             1031136 non-null  object \n",
            " 11  Age                  750391 non-null   float64\n",
            " 12  city                 1031136 non-null  object \n",
            " 13  region               1031136 non-null  object \n",
            " 14  country              1006941 non-null  object \n",
            "dtypes: float64(1), int64(2), object(12)\n",
            "memory usage: 125.9+ MB\n"
          ]
        }
      ],
      "source": [
        "books.info()"
      ]
    },
    {
      "cell_type": "markdown",
      "metadata": {
        "id": "isJtG0JP0Iei"
      },
      "source": [
        "Есть проблема с признаком `Year-Of-Publication`: его тип `object`, а не `int64`. Эту проблему мы решили во второй практической работе, поэтому просто преобразуем его к нужному типу."
      ]
    },
    {
      "cell_type": "code",
      "execution_count": 12,
      "metadata": {
        "id": "ElC9V1FB08j2"
      },
      "outputs": [],
      "source": [
        "books[\"Year-Of-Publication\"] = pd.to_numeric(books[\"Year-Of-Publication\"])"
      ]
    },
    {
      "cell_type": "markdown",
      "metadata": {
        "id": "1tGNyWA2UiFB"
      },
      "source": [
        "Поработаем с категориальными признаками. В рамках данной лабораторной работы мы не будем как-либо использовать ссылки на картинки, поэтому их просто удалим."
      ]
    },
    {
      "cell_type": "code",
      "execution_count": 13,
      "metadata": {
        "id": "GYPLDxamU-r1"
      },
      "outputs": [],
      "source": [
        "books.drop(columns=[\"Image-URL-S\", \"Image-URL-M\", \"Image-URL-L\"], inplace=True)"
      ]
    },
    {
      "cell_type": "markdown",
      "metadata": {
        "id": "IPfEcX932Xjg"
      },
      "source": [
        "`ISBN` будем кодировать с помощью `LabelEncoder`."
      ]
    },
    {
      "cell_type": "code",
      "execution_count": 14,
      "metadata": {
        "id": "Y77b7BJ622jy"
      },
      "outputs": [],
      "source": [
        "from sklearn.preprocessing import LabelEncoder\n",
        "\n",
        "books[\"ISBN\"] = LabelEncoder().fit_transform(books[\"ISBN\"])"
      ]
    },
    {
      "cell_type": "markdown",
      "metadata": {
        "id": "loWAFHPqd8LQ"
      },
      "source": [
        "Поработаем с пропусками. Признаки `Book-Author` и `Publisher` содержат в себе 1 и 2 пропуска соответственно — на весь массив данных это пренебрежительно малая часть, поэтому их можно удалить."
      ]
    },
    {
      "cell_type": "code",
      "execution_count": 15,
      "metadata": {
        "id": "5IFLP44QeQIG"
      },
      "outputs": [],
      "source": [
        "books.dropna(subset=[\"Book-Author\", \"Publisher\"], inplace=True)"
      ]
    },
    {
      "cell_type": "markdown",
      "metadata": {
        "id": "2UiFj6DNexRC"
      },
      "source": [
        "`Age` имеет значительное количество пропусков. Заменим их на некоторое усреднённое: среднее или медиану. Посмотрим на распределение этого признака, чтобы выбрать более удачный вариант."
      ]
    },
    {
      "cell_type": "code",
      "execution_count": 16,
      "metadata": {
        "colab": {
          "base_uri": "https://localhost:8080/"
        },
        "id": "Us1MbwlsfOdn",
        "outputId": "8fcdd2bf-f0ce-4004-bd55-8d0dff8ef12b"
      },
      "outputs": [
        {
          "output_type": "execute_result",
          "data": {
            "text/plain": [
              "count    750388.000000\n",
              "mean         36.993068\n",
              "std          12.220704\n",
              "min           0.000000\n",
              "25%          28.000000\n",
              "50%          35.000000\n",
              "75%          45.000000\n",
              "max         100.000000\n",
              "Name: Age, dtype: float64"
            ]
          },
          "metadata": {},
          "execution_count": 16
        }
      ],
      "source": [
        "books[\"Age\"].describe()"
      ]
    },
    {
      "cell_type": "markdown",
      "metadata": {
        "id": "fX-cIsrZfm36"
      },
      "source": [
        "Разница между средним и медианой в целом незначительна — почти 2 года при разбросе возрастов от 0 до 100. Остановимся на медиане."
      ]
    },
    {
      "cell_type": "code",
      "execution_count": 17,
      "metadata": {
        "id": "0zL3fGm9gQhw"
      },
      "outputs": [],
      "source": [
        "books[\"Age\"] = books[\"Age\"].fillna(books[\"Age\"].median())"
      ]
    },
    {
      "cell_type": "markdown",
      "metadata": {
        "id": "bGOidlhdiPmC"
      },
      "source": [
        "Также необходимо заполнить пропуски в столбце `country`. Посмотрим на несколько уникальных значений, которые были обработаны неправильно."
      ]
    },
    {
      "cell_type": "code",
      "execution_count": 18,
      "metadata": {
        "colab": {
          "base_uri": "https://localhost:8080/"
        },
        "id": "b3H3H0GviaeC",
        "outputId": "e80b5826-3dab-404b-c452-f4c339312f90"
      },
      "outputs": [
        {
          "output_type": "execute_result",
          "data": {
            "text/plain": [
              "array(['ottawa, ,', 'seattle, ,', 'albuquerque, ,', 'humble, ,',\n",
              "       'springfield, ,', 'aloha, ,', 'pearland, texas,', 'sarasota, ,',\n",
              "       'west springfield, massachusetts,', 'west linn, ,'], dtype=object)"
            ]
          },
          "metadata": {},
          "execution_count": 18
        }
      ],
      "source": [
        "books[books[\"country\"].isna()][\"Location\"].unique()[:10]"
      ]
    },
    {
      "cell_type": "markdown",
      "metadata": {
        "id": "pDhHA44Aitcy"
      },
      "source": [
        "Подавляющее большинство городов (в частности, по графику распределения стран из практической работы 2) относится к США — это самое часто встречающееся государство. Заполним пропуски модой."
      ]
    },
    {
      "cell_type": "code",
      "execution_count": 19,
      "metadata": {
        "id": "Ironj4ZdjCbm"
      },
      "outputs": [],
      "source": [
        "books[\"country\"] = books[\"country\"].fillna(books[\"country\"].mode()[0])"
      ]
    },
    {
      "cell_type": "markdown",
      "metadata": {
        "id": "YJOnrfxFj5sg"
      },
      "source": [
        "Столбец `Location` нам больше не понадобится, можем его удалить."
      ]
    },
    {
      "cell_type": "code",
      "execution_count": 20,
      "metadata": {
        "id": "WgfhcYJmj9aa"
      },
      "outputs": [],
      "source": [
        "books.drop(columns=[\"Location\"], inplace=True)"
      ]
    },
    {
      "cell_type": "markdown",
      "metadata": {
        "id": "6WkJn4NWAr4v"
      },
      "source": [
        "И, наконец, разделим для удобства числовые и категориальные признаки."
      ]
    },
    {
      "cell_type": "code",
      "execution_count": 21,
      "metadata": {
        "id": "DN49FI0yAbhm"
      },
      "outputs": [],
      "source": [
        "numeric_cols = [\n",
        "    \"ISBN\",  # после преобразования LabelEncoder'ом будем считать ISBN числовым признаком\n",
        "    \"Year-Of-Publication\",\n",
        "    \"User-ID\",\n",
        "    \"Book-Rating\",\n",
        "    \"Age\",\n",
        "]\n",
        "\n",
        "categorial_cols = [\n",
        "    \"Book-Title\",\n",
        "    \"Book-Author\",\n",
        "    \"Publisher\",\n",
        "    \"city\",\n",
        "    \"region\",\n",
        "    \"country\",\n",
        "]"
      ]
    },
    {
      "cell_type": "markdown",
      "source": [
        "# Нормировка числовых признаков"
      ],
      "metadata": {
        "id": "iBAmj4qLgG95"
      }
    },
    {
      "cell_type": "markdown",
      "source": [
        "Для корректной работы некоторых моделей (например, KNN, нейронные сети) предварительно необходимо провести нормировку некоторых числовых признаков. Поскольку \"истинно\" числовыми являются признаки `Year-Of-Publication` и `Age`, будем нормировать именно их.\n",
        "\n",
        "Из результатов второй практики видно, что распределение значений этих признаков похоже на нормальное, поэтому имеет смысл воспользоваться `StandardScaler`."
      ],
      "metadata": {
        "id": "4Y4G37HdgLOF"
      }
    },
    {
      "cell_type": "code",
      "source": [
        "from sklearn.preprocessing import StandardScaler\n",
        "\n",
        "for col in (\"Year-Of-Publication\", \"Age\"):\n",
        "    books[col] = StandardScaler().fit_transform(books[col].values.reshape(-1, 1))"
      ],
      "metadata": {
        "id": "beK4OXAUjGoh"
      },
      "execution_count": 22,
      "outputs": []
    },
    {
      "cell_type": "markdown",
      "source": [
        "На данном этапе мы не сохраняем модели преобразования данных — мы только тестируем разные комбинации моделей, чтобы в дальнейшем составить пайплайн для предсказания рейтинга книги."
      ],
      "metadata": {
        "id": "ThnuD3momIPw"
      }
    },
    {
      "cell_type": "markdown",
      "metadata": {
        "id": "nthqmYR3vQ_E"
      },
      "source": [
        "# Преобразование категориальных признаков и обучение моделей"
      ]
    },
    {
      "cell_type": "markdown",
      "metadata": {
        "id": "9AA6ekNJyaWM"
      },
      "source": [
        "Для преобразования категориальных данных в числовые признаки, в том числе названий книг, мы выбрали несколько подходов, такие как Bag of Words, TF-IDF, Word2Vec. Давайте рассмотрим каждый из них."
      ]
    },
    {
      "cell_type": "markdown",
      "metadata": {
        "id": "m0-vK8pnDZtT"
      },
      "source": [
        "## Bag of Words"
      ]
    },
    {
      "cell_type": "markdown",
      "metadata": {
        "id": "QAJPKfImz4Qy"
      },
      "source": [
        "**bag-of-words - подход, при котором текст представляется в матрицы (количества вхождений слов в документы).**"
      ]
    },
    {
      "cell_type": "code",
      "execution_count": 23,
      "metadata": {
        "id": "-vY3WHFdz7uw"
      },
      "outputs": [],
      "source": [
        "from sklearn.feature_extraction.text import CountVectorizer\n",
        "\n",
        "vectorizer_title = CountVectorizer(max_features=50)\n",
        "vectorizer_author = CountVectorizer(max_features=50)\n",
        "vectorizer_publisher = CountVectorizer(max_features=50)\n",
        "vectorizer_city = CountVectorizer(max_features=50)\n",
        "vectorizer_region = CountVectorizer(max_features=50)\n",
        "vectorizer_country = CountVectorizer(max_features=50)\n",
        "\n",
        "title_bow = vectorizer_title.fit_transform(books['Book-Title'])\n",
        "author_bow = vectorizer_author.fit_transform(books['Book-Author'])\n",
        "publisher_bow = vectorizer_publisher.fit_transform(books['Publisher'])\n",
        "city_bow = vectorizer_city.fit_transform(books['city'])\n",
        "region_bow = vectorizer_region.fit_transform(books['region'])\n",
        "country_bow = vectorizer_country.fit_transform(books['country'])"
      ]
    },
    {
      "cell_type": "code",
      "execution_count": null,
      "metadata": {
        "colab": {
          "base_uri": "https://localhost:8080/"
        },
        "id": "CPOI3Nfs8r-O",
        "outputId": "4c2f317d-af31-4e37-c7a0-77caa6506ea4"
      },
      "outputs": [
        {
          "output_type": "stream",
          "name": "stdout",
          "text": [
            "Title List:\n",
            "all\n",
            "american\n",
            "amp\n",
            "an\n",
            "and\n",
            "at\n",
            "book\n",
            "books\n",
            "by\n",
            "classics\n",
            "club\n",
            "death\n",
            "for\n",
            "from\n",
            "guide\n",
            "harlequin\n",
            "house\n",
            "how\n",
            "in\n",
            "is\n",
            "life\n",
            "little\n",
            "love\n",
            "man\n",
            "my\n",
            "mysteries\n",
            "mystery\n",
            "new\n",
            "night\n",
            "no\n",
            "novel\n",
            "novels\n",
            "of\n",
            "on\n",
            "one\n",
            "other\n",
            "paperback\n",
            "romance\n",
            "series\n",
            "star\n",
            "stories\n",
            "story\n",
            "the\n",
            "time\n",
            "to\n",
            "who\n",
            "with\n",
            "world\n",
            "you\n",
            "your\n"
          ]
        }
      ],
      "source": [
        "title_vocab = vectorizer_title.get_feature_names_out()\n",
        "\n",
        "print(\"Title List:\")\n",
        "for token in title_vocab:\n",
        "    print(token)"
      ]
    },
    {
      "cell_type": "markdown",
      "metadata": {
        "id": "DkbBc-zs9xAA"
      },
      "source": [
        "Вывод представляет собой список токенов, полученных в результате векторизации заголовков книг с использованием CountVectorizer. Каждый токен представляет собой уникальное слово или фразу, найденную в заголовках книг."
      ]
    },
    {
      "cell_type": "code",
      "execution_count": null,
      "metadata": {
        "colab": {
          "base_uri": "https://localhost:8080/"
        },
        "id": "IIdpIT4Y94iw",
        "outputId": "14635b96-eaac-4b59-fcd9-05f066e1bd23"
      },
      "outputs": [
        {
          "name": "stdout",
          "output_type": "stream",
          "text": [
            "Author BOW Matrix:\n"
          ]
        },
        {
          "data": {
            "text/plain": [
              "array([[0, 0, 0, ..., 0, 0, 0],\n",
              "       [0, 0, 0, ..., 0, 0, 0],\n",
              "       [0, 0, 0, ..., 0, 0, 0],\n",
              "       ...,\n",
              "       [0, 0, 0, ..., 0, 0, 0],\n",
              "       [0, 0, 0, ..., 0, 0, 0],\n",
              "       [0, 0, 0, ..., 0, 0, 0]])"
            ]
          },
          "execution_count": 22,
          "metadata": {},
          "output_type": "execute_result"
        }
      ],
      "source": [
        "print(\"Author BOW Matrix:\")\n",
        "author_bow.toarray()"
      ]
    },
    {
      "cell_type": "markdown",
      "metadata": {
        "id": "sR0Vh9RLEbhS"
      },
      "source": [
        "Объединим преобразованные категориальные признаки с существующими числовыми и обучим модель на линейной регрессии, алгоритме случайного леса и `xgboost`. Качество модели будем оценивать с помощью меры `MSE`."
      ]
    },
    {
      "cell_type": "code",
      "execution_count": 24,
      "metadata": {
        "colab": {
          "base_uri": "https://localhost:8080/"
        },
        "id": "slOpft1QEogY",
        "outputId": "2e642b32-7441-4f05-ff7f-da915a3ca390"
      },
      "outputs": [
        {
          "output_type": "execute_result",
          "data": {
            "text/plain": [
              "4"
            ]
          },
          "metadata": {},
          "execution_count": 24
        }
      ],
      "source": [
        "title_df = pd.DataFrame(title_bow.toarray(), columns=vectorizer_title.get_feature_names_out())\n",
        "author_df = pd.DataFrame(author_bow.toarray(), columns=vectorizer_author.get_feature_names_out())\n",
        "publisher_df = pd.DataFrame(publisher_bow.toarray(), columns=vectorizer_publisher.get_feature_names_out())\n",
        "city_df = pd.DataFrame(city_bow.toarray(), columns=vectorizer_city.get_feature_names_out())\n",
        "region_df = pd.DataFrame(region_bow.toarray(), columns=vectorizer_region.get_feature_names_out())\n",
        "country_df = pd.DataFrame(country_bow.toarray(), columns=vectorizer_country.get_feature_names_out())\n",
        "\n",
        "df = pd.concat([books[numeric_cols], title_df, author_df, publisher_df, city_df, region_df, country_df], axis=1)\n",
        "\n",
        "del title_bow, author_bow, publisher_bow, city_bow, region_bow, country_bow\n",
        "del title_df, author_df, publisher_df, city_df, region_df, country_df\n",
        "\n",
        "gc.collect()  # вызываем сборщик мусора, чтобы освободить память"
      ]
    },
    {
      "cell_type": "markdown",
      "metadata": {
        "id": "08rpcyVtxCIt"
      },
      "source": [
        "Далее объединим столбцы с одинаковыми именами, которые возникли при объединении столбцов."
      ]
    },
    {
      "cell_type": "code",
      "execution_count": 25,
      "metadata": {
        "id": "TdQAaX1ww-oW",
        "colab": {
          "base_uri": "https://localhost:8080/"
        },
        "outputId": "a4d3d2ed-cf13-460f-952c-96b2674ff14f"
      },
      "outputs": [
        {
          "output_type": "execute_result",
          "data": {
            "text/plain": [
              "0"
            ]
          },
          "metadata": {},
          "execution_count": 25
        }
      ],
      "source": [
        "duplicate_columns = df.columns[df.columns.duplicated(keep=False)]\n",
        "combined_columns = {col: df.filter(like=col).sum(axis=1) for col in duplicate_columns}\n",
        "\n",
        "df.drop(columns=duplicate_columns, inplace=True)\n",
        "\n",
        "for col_name, col_values in combined_columns.items():\n",
        "    df[col_name + \"_combined\"] = col_values\n",
        "\n",
        "del duplicate_columns, combined_columns\n",
        "gc.collect()"
      ]
    },
    {
      "cell_type": "markdown",
      "metadata": {
        "id": "cBu-Dg5sJrx4"
      },
      "source": [
        "Разделим выборку на обучающую и тестовую."
      ]
    },
    {
      "cell_type": "code",
      "execution_count": 26,
      "metadata": {
        "colab": {
          "base_uri": "https://localhost:8080/"
        },
        "id": "AAYevu7KCyp5",
        "outputId": "9a0b56b9-cd36-4762-b4d4-30ff09d71121"
      },
      "outputs": [
        {
          "output_type": "execute_result",
          "data": {
            "text/plain": [
              "0"
            ]
          },
          "metadata": {},
          "execution_count": 26
        }
      ],
      "source": [
        "from sklearn.model_selection import train_test_split\n",
        "from sklearn.metrics import mean_squared_error\n",
        "\n",
        "# Параметры train_test_split\n",
        "random_state = 42\n",
        "test_size = 0.2\n",
        "\n",
        "X_train, X_test, y_train, y_test = train_test_split(\n",
        "    df.drop(columns=[\"Book-Rating\"]), df[\"Book-Rating\"], test_size=test_size, random_state=random_state)\n",
        "X_train.fillna(0, inplace=True)\n",
        "X_test.fillna(0, inplace=True)\n",
        "y_train.fillna(y_train.mode()[0], inplace=True)\n",
        "y_test.fillna(y_test.mode()[0], inplace=True)\n",
        "\n",
        "del df\n",
        "gc.collect()"
      ]
    },
    {
      "cell_type": "markdown",
      "metadata": {
        "id": "IG2dBwEITTAX"
      },
      "source": [
        "## BoW + LinearRegression"
      ]
    },
    {
      "cell_type": "code",
      "execution_count": 27,
      "metadata": {
        "colab": {
          "base_uri": "https://localhost:8080/"
        },
        "id": "mP8qhOFlNfkv",
        "outputId": "108c1455-7220-409e-b990-ebce8df15a2d"
      },
      "outputs": [
        {
          "output_type": "execute_result",
          "data": {
            "text/plain": [
              "14.178011715189013"
            ]
          },
          "metadata": {},
          "execution_count": 27
        }
      ],
      "source": [
        "from sklearn.linear_model import LinearRegression\n",
        "\n",
        "model = LinearRegression()\n",
        "model.fit(X_train, y_train)\n",
        "y_pred = model.predict(X_test)\n",
        "y_pred = list(map(lambda x: round(x), y_pred))\n",
        "\n",
        "mean_squared_error(y_pred, y_test)"
      ]
    },
    {
      "cell_type": "markdown",
      "metadata": {
        "id": "fjqMxobkT_lC"
      },
      "source": [
        "MSE для Bag of Words и линейной регрессии — 14.17, RMSE — примерно 3.77. Ошибка предсказания составляет примерно 4 балла."
      ]
    },
    {
      "cell_type": "markdown",
      "metadata": {
        "id": "K3jLZT0MUn_1"
      },
      "source": [
        "## BoW + RandomForest"
      ]
    },
    {
      "cell_type": "code",
      "execution_count": null,
      "metadata": {
        "colab": {
          "base_uri": "https://localhost:8080/"
        },
        "id": "bniTHB40UtPb",
        "outputId": "b022256c-65ee-4c4d-8fbb-947f02f25fe0"
      },
      "outputs": [
        {
          "data": {
            "text/plain": [
              "13.773963768256493"
            ]
          },
          "execution_count": 27,
          "metadata": {},
          "output_type": "execute_result"
        }
      ],
      "source": [
        "from sklearn.ensemble import RandomForestRegressor\n",
        "\n",
        "model = RandomForestRegressor(n_estimators=50, max_depth=15, n_jobs=-1)\n",
        "model.fit(X_train, y_train)\n",
        "y_pred = model.predict(X_test)\n",
        "y_pred = list(map(lambda x: round(x), y_pred))\n",
        "\n",
        "mean_squared_error(y_pred, y_test)"
      ]
    },
    {
      "cell_type": "markdown",
      "metadata": {
        "id": "iaUveYRZWp4j"
      },
      "source": [
        "MSE для Bag of Words и линейной регрессии — 13.77, RMSE — примерно 3.71. Ошибка предсказания составляет примерно 4 балла."
      ]
    },
    {
      "cell_type": "markdown",
      "metadata": {
        "id": "EOiBda5FnofZ"
      },
      "source": [
        "## BoW + XGBoost"
      ]
    },
    {
      "cell_type": "code",
      "execution_count": 28,
      "metadata": {
        "colab": {
          "base_uri": "https://localhost:8080/"
        },
        "id": "Ct6sW6uzoVG7",
        "outputId": "6b931d84-cc9c-4d39-8e42-2138a9b5a007"
      },
      "outputs": [
        {
          "output_type": "execute_result",
          "data": {
            "text/plain": [
              "14.085177570456"
            ]
          },
          "metadata": {},
          "execution_count": 28
        }
      ],
      "source": [
        "import xgboost as xgb\n",
        "\n",
        "model = xgb.XGBRegressor(n_estimators=100, max_depth=3, learning_rate=0.1)\n",
        "model.fit(X_train, y_train)\n",
        "y_pred = model.predict(X_test)\n",
        "y_pred = list(map(lambda x: round(x), y_pred))\n",
        "\n",
        "mean_squared_error(y_pred, y_test)"
      ]
    },
    {
      "cell_type": "markdown",
      "metadata": {
        "id": "-6-tN94sp7bS"
      },
      "source": [
        "MSE для Bag of Words и XGBoost — 14.09, RMSE — примерно 3.75. Ошибка предсказания составляет примерно 4 балла."
      ]
    },
    {
      "cell_type": "markdown",
      "metadata": {
        "id": "WxdnywpTEX1p"
      },
      "source": [
        "## TF-IDF"
      ]
    },
    {
      "cell_type": "markdown",
      "metadata": {
        "id": "3DV9EP0vDHAd"
      },
      "source": [
        "**tf–idf — это способ векторизации текста, отражающий важность слова в документе, а не только частоту его появления**"
      ]
    },
    {
      "cell_type": "code",
      "execution_count": 23,
      "metadata": {
        "id": "rsoS1syADpzI"
      },
      "outputs": [],
      "source": [
        "from sklearn.feature_extraction.text import TfidfVectorizer\n",
        "\n",
        "vectorizer_title = TfidfVectorizer(max_features=50)\n",
        "vectorizer_author = TfidfVectorizer(max_features=50)\n",
        "vectorizer_publisher = TfidfVectorizer(max_features=50)\n",
        "vectorizer_city = TfidfVectorizer(max_features=50)\n",
        "vectorizer_region = TfidfVectorizer(max_features=50)\n",
        "vectorizer_country = TfidfVectorizer(max_features=50)\n",
        "\n",
        "title_tfidf = vectorizer_title.fit_transform(books['Book-Title'])\n",
        "author_tfidf = vectorizer_author.fit_transform(books['Book-Author'])\n",
        "publisher_tfidf = vectorizer_publisher.fit_transform(books['Publisher'])\n",
        "city_tfidf = vectorizer_city.fit_transform(books['city'])\n",
        "region_tfidf = vectorizer_region.fit_transform(books['region'])\n",
        "country_tfidf = vectorizer_country.fit_transform(books['country'])"
      ]
    },
    {
      "cell_type": "markdown",
      "metadata": {
        "id": "boBe_7aaQMyw"
      },
      "source": [
        "Аналогично преобразуем полученные векторы в датафреймы, объединим числовые и категориальные признаки, избавимся от повторов."
      ]
    },
    {
      "cell_type": "code",
      "execution_count": 25,
      "metadata": {
        "colab": {
          "base_uri": "https://localhost:8080/"
        },
        "id": "De15QuOxQsJD",
        "outputId": "0670ffc7-b37c-4a64-e2b5-595a838ebeea"
      },
      "outputs": [
        {
          "output_type": "execute_result",
          "data": {
            "text/plain": [
              "4"
            ]
          },
          "metadata": {},
          "execution_count": 25
        }
      ],
      "source": [
        "title_df = pd.DataFrame(title_tfidf.toarray(), columns=vectorizer_title.get_feature_names_out())\n",
        "author_df = pd.DataFrame(author_tfidf.toarray(), columns=vectorizer_author.get_feature_names_out())\n",
        "publisher_df = pd.DataFrame(publisher_tfidf.toarray(), columns=vectorizer_publisher.get_feature_names_out())\n",
        "city_df = pd.DataFrame(city_tfidf.toarray(), columns=vectorizer_city.get_feature_names_out())\n",
        "region_df = pd.DataFrame(region_tfidf.toarray(), columns=vectorizer_region.get_feature_names_out())\n",
        "country_df = pd.DataFrame(country_tfidf.toarray(), columns=vectorizer_country.get_feature_names_out())\n",
        "\n",
        "df = pd.concat([books[numeric_cols], title_df, author_df, publisher_df, city_df, region_df, country_df], axis=1)\n",
        "\n",
        "del title_tfidf, author_tfidf, publisher_tfidf, city_tfidf, region_tfidf, country_tfidf\n",
        "del title_df, author_df, publisher_df, city_df, region_df, country_df\n",
        "\n",
        "gc.collect()"
      ]
    },
    {
      "cell_type": "code",
      "execution_count": 26,
      "metadata": {
        "colab": {
          "base_uri": "https://localhost:8080/"
        },
        "id": "KVdUto0WRWYv",
        "outputId": "849197af-e063-462d-db74-357a827180e7"
      },
      "outputs": [
        {
          "output_type": "execute_result",
          "data": {
            "text/plain": [
              "0"
            ]
          },
          "metadata": {},
          "execution_count": 26
        }
      ],
      "source": [
        "duplicate_columns = df.columns[df.columns.duplicated(keep=False)]\n",
        "combined_columns = {col: df.filter(like=col).sum(axis=1) for col in duplicate_columns}\n",
        "\n",
        "df.drop(columns=duplicate_columns, inplace=True)\n",
        "\n",
        "for col_name, col_values in combined_columns.items():\n",
        "    df[col_name + \"_combined\"] = col_values\n",
        "\n",
        "del duplicate_columns, combined_columns\n",
        "gc.collect()"
      ]
    },
    {
      "cell_type": "markdown",
      "metadata": {
        "id": "lYt30ApLTu8B"
      },
      "source": [
        "Разделим выборку на обучающую и тестовую и приступим к обучению моделей (как и раньше, `LinearRegression`, `RandomForestRegressor` и `XGBoostRegressor`)."
      ]
    },
    {
      "cell_type": "code",
      "execution_count": 27,
      "metadata": {
        "colab": {
          "base_uri": "https://localhost:8080/"
        },
        "id": "b5_oFD7bUBPg",
        "outputId": "1f2da94e-d4fd-42ce-9509-a8ca53df89ac"
      },
      "outputs": [
        {
          "output_type": "execute_result",
          "data": {
            "text/plain": [
              "0"
            ]
          },
          "metadata": {},
          "execution_count": 27
        }
      ],
      "source": [
        "from sklearn.model_selection import train_test_split\n",
        "from sklearn.metrics import mean_squared_error\n",
        "\n",
        "# Параметры train_test_split\n",
        "random_state = 42\n",
        "test_size = 0.2\n",
        "\n",
        "X_train, X_test, y_train, y_test = train_test_split(\n",
        "    df.drop(columns=[\"Book-Rating\"]), df[\"Book-Rating\"], test_size=test_size, random_state=random_state)\n",
        "X_train.fillna(0, inplace=True)\n",
        "X_test.fillna(0, inplace=True)\n",
        "y_train.fillna(y_train.mode()[0], inplace=True)\n",
        "y_test.fillna(y_test.mode()[0], inplace=True)\n",
        "\n",
        "del df\n",
        "gc.collect()"
      ]
    },
    {
      "cell_type": "markdown",
      "metadata": {
        "id": "pJ0RDF0iT4-S"
      },
      "source": [
        "## TF-IDF + LinearRegression"
      ]
    },
    {
      "cell_type": "code",
      "execution_count": 28,
      "metadata": {
        "colab": {
          "base_uri": "https://localhost:8080/"
        },
        "id": "LCKhlMlgUvVM",
        "outputId": "31bebd3a-afa6-44ea-802e-24cea0f3ed08"
      },
      "outputs": [
        {
          "output_type": "execute_result",
          "data": {
            "text/plain": [
              "14.178098997226371"
            ]
          },
          "metadata": {},
          "execution_count": 28
        }
      ],
      "source": [
        "from sklearn.linear_model import LinearRegression\n",
        "\n",
        "model = LinearRegression()\n",
        "model.fit(X_train, y_train)\n",
        "y_pred = model.predict(X_test)\n",
        "y_pred = list(map(lambda x: round(x), y_pred))\n",
        "\n",
        "mean_squared_error(y_pred, y_test)"
      ]
    },
    {
      "cell_type": "markdown",
      "metadata": {
        "id": "JsuuI5xwVLlt"
      },
      "source": [
        "MSE для TF-IDF и линейной регрессии — 14.18, RMSE — примерно 3.77. Ошибка предсказания составляет примерно 4 балла."
      ]
    },
    {
      "cell_type": "markdown",
      "metadata": {
        "id": "2zrvLJ2IVYRa"
      },
      "source": [
        "## TF-IDF + RandomForest"
      ]
    },
    {
      "cell_type": "code",
      "execution_count": null,
      "metadata": {
        "colab": {
          "base_uri": "https://localhost:8080/"
        },
        "id": "0jPvSYGCW3ks",
        "outputId": "aaac199d-1ccf-4b2f-c072-0767247c595c"
      },
      "outputs": [
        {
          "data": {
            "text/plain": [
              "13.790683127412379"
            ]
          },
          "execution_count": 28,
          "metadata": {},
          "output_type": "execute_result"
        }
      ],
      "source": [
        "from sklearn.ensemble import RandomForestRegressor\n",
        "\n",
        "model = RandomForestRegressor(n_estimators=50, max_depth=15, n_jobs=-1)\n",
        "model.fit(X_train, y_train)\n",
        "y_pred = model.predict(X_test)\n",
        "y_pred = list(map(lambda x: round(x), y_pred))\n",
        "\n",
        "mean_squared_error(y_pred, y_test)"
      ]
    },
    {
      "cell_type": "markdown",
      "metadata": {
        "id": "m44WJ5ykhxPD"
      },
      "source": [
        "MSE для TF-IDF и RandomForest — 13.79, RMSE — примерно 3.71. Ошибка предсказания составляет примерно 4 балла."
      ]
    },
    {
      "cell_type": "markdown",
      "metadata": {
        "id": "dE44z0WFVak2"
      },
      "source": [
        "## TF-IDF + XGBoost"
      ]
    },
    {
      "cell_type": "code",
      "execution_count": 29,
      "metadata": {
        "colab": {
          "base_uri": "https://localhost:8080/"
        },
        "id": "_Cxb7j6dVdod",
        "outputId": "8a0c2cc9-9c67-489b-d9fb-ea239036af2b"
      },
      "outputs": [
        {
          "output_type": "execute_result",
          "data": {
            "text/plain": [
              "14.081744476986636"
            ]
          },
          "metadata": {},
          "execution_count": 29
        }
      ],
      "source": [
        "import xgboost as xgb\n",
        "\n",
        "model = xgb.XGBRegressor(n_estimators=100, max_depth=3, learning_rate=0.1)\n",
        "model.fit(X_train, y_train)\n",
        "y_pred = model.predict(X_test)\n",
        "y_pred = list(map(lambda x: round(x), y_pred))\n",
        "\n",
        "mean_squared_error(y_pred, y_test)"
      ]
    },
    {
      "cell_type": "markdown",
      "metadata": {
        "id": "1FRU5jdqWT2e"
      },
      "source": [
        "MSE для TF-IDF и XGBoost — 14.08, RMSE — примерно 3.75. Ошибка предсказания составляет примерно 4 балла."
      ]
    },
    {
      "cell_type": "markdown",
      "source": [
        "## Word2Vec"
      ],
      "metadata": {
        "id": "DzU7sJOOUoZ2"
      }
    },
    {
      "cell_type": "markdown",
      "source": [
        "**W2V — модель, которая фиксирует синтаксическое и семантическое сходство между словами, т.е. слова, близкие по значению, будут помещены рядом**\n",
        "\n",
        "Обучим модель для каждого столбца и далее получим векторное представление для каждого значения категориального признака, усреднив векторы, полученные для данного значения с помощью Word2Vec (или, в случае отсутствия слов в модели, вернув нулевой вектор)."
      ],
      "metadata": {
        "id": "FYkaCIBytc6p"
      }
    },
    {
      "cell_type": "code",
      "source": [
        "from gensim.models import Word2Vec\n",
        "from sklearn.model_selection import train_test_split\n",
        "import numpy as np\n",
        "\n",
        "vector_size = 50\n",
        "\n",
        "w2v_models = dict()\n",
        "for col in categorial_cols:\n",
        "    w2v_models[col] = Word2Vec([str(value).split() for value in books[col].unique()],\n",
        "                               vector_size=vector_size, window=5, min_count=1, workers=4)"
      ],
      "metadata": {
        "id": "QqAvnrnFKVkm"
      },
      "execution_count": 23,
      "outputs": []
    },
    {
      "cell_type": "code",
      "source": [
        "def vectorize_and_average(model, value):\n",
        "    \"\"\"\n",
        "    Возвращает средний вектор для набора слов или нулевой вектор той же\n",
        "    размерности, если ни одного слов нет в словаре модели\n",
        "    \"\"\"\n",
        "    words = str(value).split()\n",
        "    vectors = [model.wv[word] for word in words if word in model.wv]\n",
        "    if vectors:\n",
        "        return np.mean(vectors, axis=0)\n",
        "    return np.zeros(model.vector_size)\n",
        "\n",
        "df_vectorized = pd.DataFrame()\n",
        "\n",
        "for col in categorial_cols:\n",
        "    df_vectorized[col] = books[col].apply(lambda x: vectorize_and_average(w2v_models[col], x))\n",
        "\n",
        "# далее \"распрямим\" векторы: пусть каждая координата стоит в отдельном столбце\n",
        "for col in categorial_cols:\n",
        "    col_vectors = pd.DataFrame(df_vectorized[col].tolist(), columns=[f\"{col}_{i+1}\" for i in range(vector_size)])\n",
        "    df_vectorized = df_vectorized.drop(col, axis=1)\n",
        "    df_vectorized = pd.concat([df_vectorized, col_vectors], axis=1)\n",
        "    df_vectorized.dropna(inplace=True)"
      ],
      "metadata": {
        "id": "F-ojMtxtLqu1"
      },
      "execution_count": 24,
      "outputs": []
    },
    {
      "cell_type": "code",
      "source": [
        "df = pd.concat([books[numeric_cols], df_vectorized], axis=1)\n",
        "del df_vectorized, books\n",
        "gc.collect()"
      ],
      "metadata": {
        "colab": {
          "base_uri": "https://localhost:8080/"
        },
        "id": "W_ZMnuSMTKtN",
        "outputId": "e4ba6dee-c0a6-482e-8f64-649174c4d264"
      },
      "execution_count": 25,
      "outputs": [
        {
          "output_type": "execute_result",
          "data": {
            "text/plain": [
              "0"
            ]
          },
          "metadata": {},
          "execution_count": 25
        }
      ]
    },
    {
      "cell_type": "code",
      "source": [
        "from sklearn.model_selection import train_test_split\n",
        "from sklearn.metrics import mean_squared_error\n",
        "\n",
        "# Параметры train_test_split\n",
        "random_state = 42\n",
        "test_size = 0.2\n",
        "\n",
        "df.dropna(inplace=True)\n",
        "\n",
        "X_train, X_test, y_train, y_test = train_test_split(\n",
        "    df.drop(columns=[\"Book-Rating\"]), df[\"Book-Rating\"],\n",
        "    test_size=test_size, random_state=random_state)\n",
        "\n",
        "del df\n",
        "gc.collect()"
      ],
      "metadata": {
        "colab": {
          "base_uri": "https://localhost:8080/"
        },
        "id": "cCuRsK7XVPKe",
        "outputId": "22a3bf59-ab2d-42c1-c537-b6b26ee1e93a"
      },
      "execution_count": 26,
      "outputs": [
        {
          "output_type": "execute_result",
          "data": {
            "text/plain": [
              "0"
            ]
          },
          "metadata": {},
          "execution_count": 26
        }
      ]
    },
    {
      "cell_type": "markdown",
      "source": [
        "## Word2Vec + LinearRegression"
      ],
      "metadata": {
        "id": "7GSk5FsJcEwx"
      }
    },
    {
      "cell_type": "code",
      "source": [
        "from sklearn.linear_model import LinearRegression\n",
        "\n",
        "model = LinearRegression()\n",
        "model.fit(X_train, y_train)\n",
        "y_pred = model.predict(X_test)\n",
        "y_pred = list(map(lambda x: round(x), y_pred))\n",
        "\n",
        "mean_squared_error(y_pred, y_test)"
      ],
      "metadata": {
        "colab": {
          "base_uri": "https://localhost:8080/"
        },
        "id": "shJYHN7GbhwB",
        "outputId": "68eb3b2b-cd69-4f50-d58f-830dc68f11a7"
      },
      "execution_count": 29,
      "outputs": [
        {
          "output_type": "execute_result",
          "data": {
            "text/plain": [
              "14.34815224296029"
            ]
          },
          "metadata": {},
          "execution_count": 29
        }
      ]
    },
    {
      "cell_type": "markdown",
      "source": [
        "MSE для Word2Vec и LinearRegression — 14.35, RMSE — примерно 3.79. Ошибка предсказания составляет примерно 4 балла."
      ],
      "metadata": {
        "id": "EXh0ZUvHeLER"
      }
    },
    {
      "cell_type": "markdown",
      "source": [
        "## Word2Vec + RandomForest"
      ],
      "metadata": {
        "id": "z6Qv-z04cIXO"
      }
    },
    {
      "cell_type": "code",
      "source": [
        "from sklearn.ensemble import RandomForestRegressor\n",
        "\n",
        "model = RandomForestRegressor(n_estimators=30, max_depth=10, n_jobs=-1)\n",
        "model.fit(X_train, y_train)\n",
        "y_pred = model.predict(X_test)\n",
        "y_pred = list(map(lambda x: round(x), y_pred))\n",
        "\n",
        "mean_squared_error(y_pred, y_test)"
      ],
      "metadata": {
        "colab": {
          "base_uri": "https://localhost:8080/"
        },
        "id": "5U04pQeEcK58",
        "outputId": "4b813400-d6cb-4103-a427-979d2e81c090"
      },
      "execution_count": 27,
      "outputs": [
        {
          "output_type": "execute_result",
          "data": {
            "text/plain": [
              "13.496651682886972"
            ]
          },
          "metadata": {},
          "execution_count": 27
        }
      ]
    },
    {
      "cell_type": "markdown",
      "source": [
        "MSE для Word2Vec и RandomForest — 13.5, RMSE — примерно 3.67. Ошибка предсказания составляет примерно 4 балла."
      ],
      "metadata": {
        "id": "LCf4DbBmfWQw"
      }
    },
    {
      "cell_type": "markdown",
      "source": [
        "## Word2Vec + XGBoost"
      ],
      "metadata": {
        "id": "u2-VsEjIcTLc"
      }
    },
    {
      "cell_type": "code",
      "source": [
        "import xgboost as xgb\n",
        "\n",
        "model = xgb.XGBRegressor(n_estimators=100, max_depth=3, learning_rate=0.1)\n",
        "model.fit(X_train, y_train)\n",
        "y_pred = model.predict(X_test)\n",
        "y_pred = list(map(lambda x: round(x), y_pred))\n",
        "\n",
        "mean_squared_error(y_pred, y_test)"
      ],
      "metadata": {
        "colab": {
          "base_uri": "https://localhost:8080/"
        },
        "id": "U174LW__cVjg",
        "outputId": "93d3dd08-f8e7-482d-9e91-ce8e50d5a709"
      },
      "execution_count": 29,
      "outputs": [
        {
          "output_type": "execute_result",
          "data": {
            "text/plain": [
              "13.735558109425234"
            ]
          },
          "metadata": {},
          "execution_count": 29
        }
      ]
    },
    {
      "cell_type": "markdown",
      "source": [
        "MSE для Word2Vec и XGBoost — 13.73, RMSE — примерно 3.7. Ошибка предсказания составляет примерно 4 балла."
      ],
      "metadata": {
        "id": "HSxKyBAKedO5"
      }
    },
    {
      "cell_type": "markdown",
      "source": [
        "# Вывод"
      ],
      "metadata": {
        "id": "AHL-MrbFUgCp"
      }
    },
    {
      "cell_type": "markdown",
      "source": [
        "Наиболее удачной при текущей предобработке является использование векторизатора Word2Vec и модели RandomForestRegressor — эта комбинация даёт наименьшую среднеквадратическую ошибку.\n",
        "\n",
        "Результат можно улучшить, например, подобрав более удачные гиперпараметры RandomForest, увеличив размер вектора Word2Vec. Однако, поскольку все 9 комбинаций дают примерно одинаковый результат, больший вклад даёт более качественная предобработка"
      ],
      "metadata": {
        "id": "1MiXzwmLUpUB"
      }
    },
    {
      "cell_type": "markdown",
      "source": [
        "**Возможный пайплайн:**\n",
        "\n",
        "1.   Удаление признаков `Image-URL-*`\n",
        "2.   Разделение `Location` на `city`, `region`, `country`, удаление `Location`\n",
        "3.   Заполнение отсутствующих значений: мода для `Year-Of-Publication`, `city`, `region`, `country`, медиана для `Age` (на основе тренировочного датасета)\n",
        "4.   Применение обученного `LabelEncoder` для `ISBN`\n",
        "5.   Применение обученных `StandardScaler` для `Year-Of-Publication` и `Age`\n",
        "6.   Применение обученных моделей `Word2Vec` для векторизации\n",
        "7.   \"Распрямление\" векторов `Word2Vec`\n",
        "8.   Предсказание с помощью обученного `RandomForestRegressor`"
      ],
      "metadata": {
        "id": "BazqTkMSV2so"
      }
    }
  ],
  "metadata": {
    "colab": {
      "provenance": [],
      "collapsed_sections": [
        "y7sd-f4YvwNA",
        "m0-vK8pnDZtT",
        "IG2dBwEITTAX",
        "K3jLZT0MUn_1",
        "EOiBda5FnofZ",
        "pJ0RDF0iT4-S",
        "2zrvLJ2IVYRa"
      ],
      "include_colab_link": true
    },
    "kernelspec": {
      "display_name": "Python 3",
      "name": "python3"
    },
    "language_info": {
      "name": "python"
    }
  },
  "nbformat": 4,
  "nbformat_minor": 0
}